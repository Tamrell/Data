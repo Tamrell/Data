{
 "cells": [
  {
   "cell_type": "code",
   "execution_count": 1,
   "metadata": {},
   "outputs": [],
   "source": [
    "import pandas as pd\n",
    "import numpy as np"
   ]
  },
  {
   "cell_type": "code",
   "execution_count": 2,
   "metadata": {},
   "outputs": [],
   "source": [
    "df = pd.read_csv(\"reduced.csv\", delimiter=',')\n",
    "\n",
    "# Classify timestamps as datetimes\n",
    "df['Timestamp'] = pd.to_datetime(df['Timestamp'])\n",
    "df.set_index(df['Timestamp'], inplace=True)"
   ]
  },
  {
   "cell_type": "code",
   "execution_count": 3,
   "metadata": {},
   "outputs": [],
   "source": [
    "# df.drop(['Sin', 'Cos'], axis=1)\n",
    "\n",
    "def interpolate_linear(df):\n",
    "    df['sin'] = np.sin(np.deg2rad(df['Wind Direction']))\n",
    "    df['cos'] = np.cos(np.deg2rad(df['Wind Direction']))\n",
    "\n",
    "    df_lin = df.copy()\n",
    "    df_lin.interpolate(inplace=True)#, limit=3)\n",
    "\n",
    "    df['Wind Direction Linear'] = np.rad2deg(np.arctan2(df_lin['sin'], df_lin['cos'])).apply(full_range)\n",
    "    df['Wind Speed Linear'] = df_lin['Wind Speed']\n",
    "\n",
    "    df = df.drop(['sin', 'cos'], axis=1)\n",
    "    return df\n",
    "\n",
    "def interpolate_cubic_spline(df):\n",
    "    df['sin'] = np.sin(np.deg2rad(df['Wind Direction']))\n",
    "    df['cos'] = np.cos(np.deg2rad(df['Wind Direction']))\n",
    "\n",
    "    df_spl = df.copy()\n",
    "    df_spl.interpolate(method='cubic', order=3, inplace=True)#, limit=3) # cubic == spline?\n",
    "    df['Wind Direction Spline'] = np.rad2deg(np.arctan2(df_spl['sin'], df_spl['cos'])).apply(full_range)\n",
    "    df['Wind Speed Spline'] = df_spl['Wind Speed']\n",
    "\n",
    "    df = df.drop(['sin', 'cos'], axis=1)\n",
    "    return df\n",
    "\n",
    "def full_range(f):\n",
    "    if f < 0:\n",
    "        return f + 360\n",
    "    else:\n",
    "        return f\n",
    "\n",
    "    \n",
    "    \n",
    "df = df.resample('3600S').asfreq()[:]\n",
    "\n",
    "interpolate_linear(df)\n",
    "interpolate_cubic_spline(df)\n",
    "df = df.drop(['sin', 'cos'], axis=1)\n",
    "\n",
    "df['Timestamp'].interpolate(method='time')\n",
    "df['2016-04-04']['Wind Direction Spline'].plot()\n",
    "df['2016-04-04']['Wind Direction Linear'].plot()\n",
    "\n",
    "\n",
    "\n",
    "writer = pd.ExcelWriter('Meteorological Interpolated.xlsx')\n",
    "df.to_excel(writer,'ledata')\n",
    "writer.save()"
   ]
  },
  {
   "cell_type": "code",
   "execution_count": null,
   "metadata": {},
   "outputs": [],
   "source": []
  },
  {
   "cell_type": "code",
   "execution_count": null,
   "metadata": {},
   "outputs": [],
   "source": []
  }
 ],
 "metadata": {
  "kernelspec": {
   "display_name": "Python 3",
   "language": "python",
   "name": "python3"
  },
  "language_info": {
   "codemirror_mode": {
    "name": "ipython",
    "version": 3
   },
   "file_extension": ".py",
   "mimetype": "text/x-python",
   "name": "python",
   "nbconvert_exporter": "python",
   "pygments_lexer": "ipython3",
   "version": "3.6.5"
  }
 },
 "nbformat": 4,
 "nbformat_minor": 2
}
