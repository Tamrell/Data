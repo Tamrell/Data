{
 "cells": [
  {
   "cell_type": "code",
   "execution_count": 50,
   "metadata": {},
   "outputs": [],
   "source": [
    "import os, pandas, numpy, time, datetime\n",
    "import matplotlib.pyplot as plt\n",
    "\n",
    "SD = pandas.read_excel('Sensor Data.xlsx')\n",
    "MD = pandas.read_excel('Meteorological Data.xlsx')"
   ]
  },
  {
   "cell_type": "code",
   "execution_count": 51,
   "metadata": {},
   "outputs": [],
   "source": [
    "#return a set of the chemicals\n",
    "def getChemicals(SD):\n",
    "    return list(set(pandas.Series(SD['Chemical']).values))\n",
    "\n",
    "#return a set of the sensors\n",
    "def getSensors(SD):\n",
    "    return list(set(pandas.Series(SD['Monitor']).values))\n"
   ]
  },
  {
   "cell_type": "code",
   "execution_count": 52,
   "metadata": {},
   "outputs": [],
   "source": [
    "#error where Reading = 31\n",
    "selected = pandas.Series(SD.loc[(SD['Monitor'] == 1) & (SD['Chemical'] == 'Methylosmolene') & (SD['Reading'] < 25)]['Reading']).values\n",
    "selectedAfter = [i - numpy.mean(selected) for i in selected]"
   ]
  },
  {
   "cell_type": "code",
   "execution_count": 53,
   "metadata": {},
   "outputs": [],
   "source": [
    "#https://matplotlib.org/examples/pylab_examples/subplots_demo.html -> goeie uitleg subplots"
   ]
  },
  {
   "cell_type": "code",
   "execution_count": 54,
   "metadata": {},
   "outputs": [],
   "source": [
    "chemicals = getChemicals(SD)\n",
    "sensors = getSensors(SD)"
   ]
  },
  {
   "cell_type": "code",
   "execution_count": 55,
   "metadata": {},
   "outputs": [
    {
     "data": {
      "text/plain": [
       "\"for i in range(1,len(sensors)+1):\\n    data = pandas.Series(SD.loc[(SD['Monitor'] == i) & (SD['Chemical'] == 'Methylosmolene') & (SD['Reading'] < 25)]['Reading']).values\\n    plt.subplot(int('91%i'%i))\\n    plt.plot(range(len(data)),data)\""
      ]
     },
     "execution_count": 55,
     "metadata": {},
     "output_type": "execute_result"
    }
   ],
   "source": [
    "'''for i in range(1,len(sensors)+1):\n",
    "    data = pandas.Series(SD.loc[(SD['Monitor'] == i) & (SD['Chemical'] == 'Methylosmolene') & (SD['Reading'] < 25)]['Reading']).values\n",
    "    plt.subplot(int('91%i'%i))\n",
    "    plt.plot(range(len(data)),data)'''"
   ]
  },
  {
   "cell_type": "code",
   "execution_count": 123,
   "metadata": {},
   "outputs": [
    {
     "name": "stdout",
     "output_type": "stream",
     "text": [
      "458 DEZE\n"
     ]
    },
    {
     "data": {
      "text/plain": [
       "'\\n\\ntimecode = str(timecodes[0])\\n\\ndt = datetime.datetime(2016,4,1,0,0,1)\\n\\nprint(\"Unix Timestamp: \",(time.mktime(dt.timetuple())))\\n'"
      ]
     },
     "execution_count": 123,
     "metadata": {},
     "output_type": "execute_result"
    }
   ],
   "source": [
    "timecodesOld = MD['Date'].values\n",
    "\n",
    "def getTimestamp(timecode):\n",
    "    try:\n",
    "        timecode = pandas.to_datetime(str(timecode)).strftime(\"%Y.%m.%d.%H\")\n",
    "        timecode = datetime.datetime(int(timecode[0:4]),int(timecode[5:7]),int(timecode[8:10]),int(timecode[11:13]))\n",
    "        timecode = str(int(time.mktime(timecode.timetuple())))\n",
    "    except:\n",
    "        timecode = 'GEEN WAARDE'\n",
    "    return timecode\n",
    "\n",
    "timecodesNew = [getTimestamp(timecode) for timecode in timecodesOld]\n",
    "\n",
    "def findMissingTimestamps(timestamps):\n",
    "    for i in range(len(timestamps)):\n",
    "        if timestamps[i] == 'GEEN WAARDE':\n",
    "            print(i,'DEZE')\n",
    "            \n",
    "            \n",
    "findMissingTimestamps(timecodesNew)\n",
    "'''\n",
    "\n",
    "timecode = str(timecodes[0])\n",
    "\n",
    "dt = datetime.datetime(2016,4,1,0,0,1)\n",
    "\n",
    "print(\"Unix Timestamp: \",(time.mktime(dt.timetuple())))\n",
    "'''\n"
   ]
  },
  {
   "cell_type": "code",
   "execution_count": null,
   "metadata": {},
   "outputs": [],
   "source": []
  },
  {
   "cell_type": "code",
   "execution_count": null,
   "metadata": {},
   "outputs": [],
   "source": []
  },
  {
   "cell_type": "code",
   "execution_count": null,
   "metadata": {},
   "outputs": [],
   "source": []
  }
 ],
 "metadata": {
  "kernelspec": {
   "display_name": "Python 3",
   "language": "python",
   "name": "python3"
  },
  "language_info": {
   "codemirror_mode": {
    "name": "ipython",
    "version": 3
   },
   "file_extension": ".py",
   "mimetype": "text/x-python",
   "name": "python",
   "nbconvert_exporter": "python",
   "pygments_lexer": "ipython3",
   "version": "3.6.4"
  }
 },
 "nbformat": 4,
 "nbformat_minor": 2
}
